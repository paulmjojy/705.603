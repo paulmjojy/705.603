{
 "cells": [
  {
   "cell_type": "code",
   "execution_count": 52,
   "metadata": {},
   "outputs": [
    {
     "name": "stderr",
     "output_type": "stream",
     "text": [
      "[nltk_data] Downloading package punkt to /root/nltk_data...\n",
      "[nltk_data]   Package punkt is already up-to-date!\n",
      "[nltk_data] Downloading package wordnet to /root/nltk_data...\n",
      "[nltk_data]   Package wordnet is already up-to-date!\n",
      "[nltk_data] Downloading package omw-1.4 to /root/nltk_data...\n",
      "[nltk_data]   Package omw-1.4 is already up-to-date!\n"
     ]
    }
   ],
   "source": [
    "import pandas as pd\n",
    "import nltk\n",
    "nltk.download('punkt')\n",
    "nltk.download('wordnet')\n",
    "nltk.download('omw-1.4')\n",
    "from nltk.tokenize import word_tokenize\n",
    "from nltk.stem.wordnet import WordNetLemmatizer\n",
    "from nltk.stem import PorterStemmer"
   ]
  },
  {
   "cell_type": "code",
   "execution_count": 24,
   "metadata": {},
   "outputs": [
    {
     "data": {
      "text/html": [
       "<div>\n",
       "<style scoped>\n",
       "    .dataframe tbody tr th:only-of-type {\n",
       "        vertical-align: middle;\n",
       "    }\n",
       "\n",
       "    .dataframe tbody tr th {\n",
       "        vertical-align: top;\n",
       "    }\n",
       "\n",
       "    .dataframe thead th {\n",
       "        text-align: right;\n",
       "    }\n",
       "</style>\n",
       "<table border=\"1\" class=\"dataframe\">\n",
       "  <thead>\n",
       "    <tr style=\"text-align: right;\">\n",
       "      <th></th>\n",
       "      <th>reviewerID</th>\n",
       "      <th>asin</th>\n",
       "      <th>reviewerName</th>\n",
       "      <th>helpful</th>\n",
       "      <th>reviewText</th>\n",
       "      <th>overall</th>\n",
       "      <th>summary</th>\n",
       "      <th>unixReviewTime</th>\n",
       "      <th>reviewTime</th>\n",
       "    </tr>\n",
       "  </thead>\n",
       "  <tbody>\n",
       "    <tr>\n",
       "      <th>0</th>\n",
       "      <td>A2IBPI20UZIR0U</td>\n",
       "      <td>1384719342</td>\n",
       "      <td>cassandra tu \"Yeah, well, that's just like, u...</td>\n",
       "      <td>[0, 0]</td>\n",
       "      <td>Not much to write about here, but it does exac...</td>\n",
       "      <td>5.0</td>\n",
       "      <td>good</td>\n",
       "      <td>1393545600</td>\n",
       "      <td>02 28, 2014</td>\n",
       "    </tr>\n",
       "    <tr>\n",
       "      <th>1</th>\n",
       "      <td>A14VAT5EAX3D9S</td>\n",
       "      <td>1384719342</td>\n",
       "      <td>Jake</td>\n",
       "      <td>[13, 14]</td>\n",
       "      <td>The product does exactly as it should and is q...</td>\n",
       "      <td>5.0</td>\n",
       "      <td>Jake</td>\n",
       "      <td>1363392000</td>\n",
       "      <td>03 16, 2013</td>\n",
       "    </tr>\n",
       "    <tr>\n",
       "      <th>2</th>\n",
       "      <td>A195EZSQDW3E21</td>\n",
       "      <td>1384719342</td>\n",
       "      <td>Rick Bennette \"Rick Bennette\"</td>\n",
       "      <td>[1, 1]</td>\n",
       "      <td>The primary job of this device is to block the...</td>\n",
       "      <td>5.0</td>\n",
       "      <td>It Does The Job Well</td>\n",
       "      <td>1377648000</td>\n",
       "      <td>08 28, 2013</td>\n",
       "    </tr>\n",
       "    <tr>\n",
       "      <th>3</th>\n",
       "      <td>A2C00NNG1ZQQG2</td>\n",
       "      <td>1384719342</td>\n",
       "      <td>RustyBill \"Sunday Rocker\"</td>\n",
       "      <td>[0, 0]</td>\n",
       "      <td>Nice windscreen protects my MXL mic and preven...</td>\n",
       "      <td>5.0</td>\n",
       "      <td>GOOD WINDSCREEN FOR THE MONEY</td>\n",
       "      <td>1392336000</td>\n",
       "      <td>02 14, 2014</td>\n",
       "    </tr>\n",
       "    <tr>\n",
       "      <th>4</th>\n",
       "      <td>A94QU4C90B1AX</td>\n",
       "      <td>1384719342</td>\n",
       "      <td>SEAN MASLANKA</td>\n",
       "      <td>[0, 0]</td>\n",
       "      <td>This pop filter is great. It looks and perform...</td>\n",
       "      <td>5.0</td>\n",
       "      <td>No more pops when I record my vocals.</td>\n",
       "      <td>1392940800</td>\n",
       "      <td>02 21, 2014</td>\n",
       "    </tr>\n",
       "  </tbody>\n",
       "</table>\n",
       "</div>"
      ],
      "text/plain": [
       "       reviewerID        asin  \\\n",
       "0  A2IBPI20UZIR0U  1384719342   \n",
       "1  A14VAT5EAX3D9S  1384719342   \n",
       "2  A195EZSQDW3E21  1384719342   \n",
       "3  A2C00NNG1ZQQG2  1384719342   \n",
       "4   A94QU4C90B1AX  1384719342   \n",
       "\n",
       "                                       reviewerName   helpful  \\\n",
       "0  cassandra tu \"Yeah, well, that's just like, u...    [0, 0]   \n",
       "1                                              Jake  [13, 14]   \n",
       "2                     Rick Bennette \"Rick Bennette\"    [1, 1]   \n",
       "3                         RustyBill \"Sunday Rocker\"    [0, 0]   \n",
       "4                                     SEAN MASLANKA    [0, 0]   \n",
       "\n",
       "                                          reviewText  overall  \\\n",
       "0  Not much to write about here, but it does exac...      5.0   \n",
       "1  The product does exactly as it should and is q...      5.0   \n",
       "2  The primary job of this device is to block the...      5.0   \n",
       "3  Nice windscreen protects my MXL mic and preven...      5.0   \n",
       "4  This pop filter is great. It looks and perform...      5.0   \n",
       "\n",
       "                                 summary  unixReviewTime   reviewTime  \n",
       "0                                   good      1393545600  02 28, 2014  \n",
       "1                                   Jake      1363392000  03 16, 2013  \n",
       "2                   It Does The Job Well      1377648000  08 28, 2013  \n",
       "3          GOOD WINDSCREEN FOR THE MONEY      1392336000  02 14, 2014  \n",
       "4  No more pops when I record my vocals.      1392940800  02 21, 2014  "
      ]
     },
     "execution_count": 24,
     "metadata": {},
     "output_type": "execute_result"
    }
   ],
   "source": [
    "#load csv to dataframe\n",
    "reviews = pd.read_csv('Musical_instruments_reviews.csv')\n",
    "reviews.head()"
   ]
  },
  {
   "cell_type": "code",
   "execution_count": 25,
   "metadata": {},
   "outputs": [
    {
     "data": {
      "text/plain": [
       "0                                                     good\n",
       "1                                                     Jake\n",
       "2                                     It Does The Job Well\n",
       "3                            GOOD WINDSCREEN FOR THE MONEY\n",
       "4                    No more pops when I record my vocals.\n",
       "                               ...                        \n",
       "10256                                           Five Stars\n",
       "10257    Long life, and for some players, a good econom...\n",
       "10258                                     Good for coated.\n",
       "10259                                          Taylor Made\n",
       "10260    These strings are really quite good, but I wou...\n",
       "Name: summary, Length: 10261, dtype: object"
      ]
     },
     "execution_count": 25,
     "metadata": {},
     "output_type": "execute_result"
    }
   ],
   "source": [
    "#retrieve the summary column\n",
    "summary = reviews['summary']\n",
    "summary"
   ]
  },
  {
   "cell_type": "code",
   "execution_count": 32,
   "metadata": {},
   "outputs": [
    {
     "data": {
      "text/plain": [
       "[['good'],\n",
       " ['Jake'],\n",
       " ['It', 'Does', 'The', 'Job', 'Well'],\n",
       " ['GOOD', 'WINDSCREEN', 'FOR', 'THE', 'MONEY'],\n",
       " ['No', 'more', 'pops', 'when', 'I', 'record', 'my', 'vocals', '.'],\n",
       " ['The', 'Best', 'Cable'],\n",
       " ['Monster', 'Standard', '100', '-', '21', \"'\", 'Instrument', 'Cable'],\n",
       " ['Did', \"n't\", 'fit', 'my', '1996', 'Fender', 'Strat', '...'],\n",
       " ['Great', 'cable'],\n",
       " ['Best', 'Instrument', 'Cables', 'On', 'The', 'Market']]"
      ]
     },
     "execution_count": 32,
     "metadata": {},
     "output_type": "execute_result"
    }
   ],
   "source": [
    "#perform tokenization \n",
    "token_list = [word_tokenize(summ) for summ in summary]\n",
    "#display first 10 tokenized reviews\n",
    "token_list[:10]"
   ]
  },
  {
   "cell_type": "code",
   "execution_count": 55,
   "metadata": {},
   "outputs": [
    {
     "data": {
      "text/plain": [
       "[['good'],\n",
       " ['Jake'],\n",
       " ['It', 'Does', 'The', 'Job', 'Well'],\n",
       " ['GOOD', 'WINDSCREEN', 'FOR', 'THE', 'MONEY'],\n",
       " ['No', 'more', 'pop', 'when', 'I', 'record', 'my', 'vocal', '.'],\n",
       " ['The', 'Best', 'Cable'],\n",
       " ['Monster', 'Standard', '100', '-', '21', \"'\", 'Instrument', 'Cable'],\n",
       " ['Did', \"n't\", 'fit', 'my', '1996', 'Fender', 'Strat', '...'],\n",
       " ['Great', 'cable'],\n",
       " ['Best', 'Instrument', 'Cables', 'On', 'The', 'Market']]"
      ]
     },
     "execution_count": 55,
     "metadata": {},
     "output_type": "execute_result"
    }
   ],
   "source": [
    "#perform lemmatization\n",
    "lemmatize = WordNetLemmatizer()\n",
    "\n",
    "lemmatized_words = []\n",
    "\n",
    "for t in token_list:\n",
    "    summ = []\n",
    "    for w in t:\n",
    "        rootWord = lemmatize.lemmatize(w,pos='n')\n",
    "        summ.append(rootWord)\n",
    "    lemmatized_words.append(summ)\n",
    "lemmatized_words[:10]\n"
   ]
  },
  {
   "cell_type": "code",
   "execution_count": 54,
   "metadata": {},
   "outputs": [
    {
     "data": {
      "text/plain": [
       "[['good'],\n",
       " ['jake'],\n",
       " ['it', 'doe', 'the', 'job', 'well'],\n",
       " ['good', 'windscreen', 'for', 'the', 'money'],\n",
       " ['no', 'more', 'pop', 'when', 'i', 'record', 'my', 'vocal', '.'],\n",
       " ['the', 'best', 'cabl'],\n",
       " ['monster', 'standard', '100', '-', '21', \"'\", 'instrument', 'cabl'],\n",
       " ['did', \"n't\", 'fit', 'my', '1996', 'fender', 'strat', '...'],\n",
       " ['great', 'cabl'],\n",
       " ['best', 'instrument', 'cabl', 'on', 'the', 'market']]"
      ]
     },
     "execution_count": 54,
     "metadata": {},
     "output_type": "execute_result"
    }
   ],
   "source": [
    "ps = PorterStemmer()\n",
    "\n",
    "stemmed_words = []\n",
    "\n",
    "for t in token_list:\n",
    "    summ = []\n",
    "    for w in t:\n",
    "        rootWord = ps.stem(w)\n",
    "        summ.append(rootWord)\n",
    "    stemmed_words.append(summ)\n",
    "stemmed_words[:10]"
   ]
  },
  {
   "cell_type": "markdown",
   "metadata": {},
   "source": [
    "### Describe any issues and limitations of the basic NLP processing.\n",
    "\n",
    "Some issues I could see with NLP processing is that sometimes lemmatization and stemming could change the meaning of a word, and therefore misidentify meanings. For example, stemming would change \"fishing\" to \"fish.\" However, fishing is the act of catching fish, and fish is the animal. It's not the same as changing \"running\" to \"run,\" because they still mean the same thing. Another issue with NLP is that it could struggle to identify figures of speech like irony and common phrases. If I say \"something smells fishy,\" to convey that something is suspicious, the algorithm might think I literally mean that something smells like fish. If I say \"we ran out of milk,\" I'm not saying that I ran and lost milk, but the NLP processor has no way to understand what that means unless I specify meanings for countless phrases. Sarcasm is another issue for NLP processors, as they might consider a sarcastic sentence as positive sentiment when it's really negative. Even humans struggle to understand sarcasm sometimes, so expecting a computer to do it is tough. Yet another issue is ambiguity, when a sentence could have multiple meanings.     "
   ]
  },
  {
   "cell_type": "code",
   "execution_count": null,
   "metadata": {},
   "outputs": [],
   "source": []
  }
 ],
 "metadata": {
  "kernelspec": {
   "display_name": "Python 3",
   "language": "python",
   "name": "python3"
  },
  "language_info": {
   "codemirror_mode": {
    "name": "ipython",
    "version": 3
   },
   "file_extension": ".py",
   "mimetype": "text/x-python",
   "name": "python",
   "nbconvert_exporter": "python",
   "pygments_lexer": "ipython3",
   "version": "3.8.5"
  }
 },
 "nbformat": 4,
 "nbformat_minor": 5
}
